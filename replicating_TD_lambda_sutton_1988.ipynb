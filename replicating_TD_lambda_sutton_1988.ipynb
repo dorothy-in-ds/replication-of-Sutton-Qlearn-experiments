{
 "cells": [
  {
   "cell_type": "code",
   "execution_count": 194,
   "metadata": {},
   "outputs": [],
   "source": [
    "import pandas as pd\n",
    "import numpy as np\n",
    "import random\n",
    "import timeit\n",
    "import concurrent.futures\n",
    "import matplotlib.pyplot as plt"
   ]
  },
  {
   "cell_type": "code",
   "execution_count": 195,
   "metadata": {},
   "outputs": [],
   "source": [
    "true_probabilities = np.array([1/6,1/3,1/2,2/3,5/6])"
   ]
  },
  {
   "cell_type": "code",
   "execution_count": 196,
   "metadata": {},
   "outputs": [],
   "source": [
    "def generate_n_seq_training_set(num_seq):\n",
    "    training_data = []\n",
    "    #states are abcdefg, always starts with d\n",
    "    for i in range(num_seq):\n",
    "        train_sequence = [3]\n",
    "        #a is 0 and g is 6\n",
    "        while train_sequence[-1] not in [0,6]:\n",
    "            #-1 moves left, +1 moves right\n",
    "            train_sequence = train_sequence+[train_sequence[-1]+[-1,1][random.randint(0,1)]]\n",
    "        training_data = training_data+[np.array(train_sequence)]\n",
    "    return(training_data)\n"
   ]
  },
  {
   "cell_type": "code",
   "execution_count": 197,
   "metadata": {},
   "outputs": [],
   "source": [
    "def generate_balanced_n_seq_training_set(num_seq):\n",
    "    last_end_state = 0\n",
    "    training_data = []\n",
    "    i = 0\n",
    "    #states are abcdefg, always starts with d\n",
    "    while i < num_seq:\n",
    "        train_sequence = [3]\n",
    "        #a is 0 and g is 6\n",
    "        while train_sequence[-1] not in [0,6]:\n",
    "            #-1 moves left, +1 moves right\n",
    "            train_sequence = train_sequence+[train_sequence[-1]+[-1,1][int(np.random.rand()>=0.5)]]\n",
    "        if train_sequence[-1] == last_end_state: \n",
    "            continue\n",
    "        else:\n",
    "            training_data = training_data+[np.array(train_sequence)]\n",
    "            last_end_state = train_sequence[-1]\n",
    "            i+=1\n",
    "    return(training_data)\n"
   ]
  },
  {
   "cell_type": "code",
   "execution_count": 198,
   "metadata": {},
   "outputs": [],
   "source": [
    "def tdlearn_a_sequence(train,lba,alpha,weights):\n",
    "    train_steps = train[1:]\n",
    "    x_learn_mat = np.zeros((len(train_steps)-1,5))\n",
    "    #not learning the last step\n",
    "    delta_weights = np.zeros(5)\n",
    "    for i in range(len(train_steps)-1):\n",
    "        #update the learn mat with current state value\n",
    "        x_learn_mat[i,train_steps[i]-1] = 1\n",
    "        #get current state and its x,p value\n",
    "        current_state = train_steps[i]\n",
    "        p_current_state = weights[current_state-1]\n",
    "        # get next state and its p value\n",
    "        next_state = train_steps[i+1]\n",
    "        if next_state == 0: p_next_state = 0;\n",
    "        elif next_state == 6: p_next_state = 1;\n",
    "        else: p_next_state = weights[next_state-1];\n",
    "        # p difference between next step and current step\n",
    "        p_difference = p_next_state-p_current_state\n",
    "        # x matrix for all steps from least recent to most recent\n",
    "        all_steps_x_matrix = x_learn_mat[0:(i+1),:]\n",
    "        # array of lambda power values for multiplication, from highest power to lowest power\n",
    "        lba_array = np.array([lba**i for i in range(i+1)])[::-1]\n",
    "        # delta in weights after this step\n",
    "        delta_weights =  delta_weights+alpha * p_difference * np.sum((all_steps_x_matrix*lba_array[:,None]),axis = 0)\n",
    "#         print('current_state:', current_state)\n",
    "#         print('p_current_state:', p_current_state)\n",
    "#         print('next_state:',next_state)\n",
    "#         print('p_next_state:', p_next_state)\n",
    "#         print('all_steps_x_matrix:', all_steps_x_matrix)\n",
    "#         print('lba_array:', lba_array)\n",
    "#         print('matrix product:', all_steps_x_matrix*lba_array[:,None])\n",
    "#         print('p_difference:', p_difference)\n",
    "#         print('delta_weights:', delta_weights)\n",
    "    return delta_weights\n"
   ]
  },
  {
   "cell_type": "code",
   "execution_count": 199,
   "metadata": {},
   "outputs": [],
   "source": [
    "#each set has 10 sequences\n",
    "def figure_3_experiment_per_lambda(lba,alpha,train_data_full_set):\n",
    "    rmse_array = np.array([])\n",
    "    for i in range(100):\n",
    "        #repeatedly train weights using a train set until convergence, \n",
    "        #update weights after finishing each iteration of train set\n",
    "        train_data = train_data_full_set[i*10:i*10+10]\n",
    "        weights = np.full(5,0.5)\n",
    "        previous_weights = np.full(5,0.6)\n",
    "        iterations = 0\n",
    "        while np.any(np.absolute(weights-previous_weights)) > 0.0001:\n",
    "            iterations += 1\n",
    "            delta_weights = np.zeros(5)\n",
    "            for j in train_data:\n",
    "                delta_weights = delta_weights + tdlearn_a_sequence(train = j,lba = lba,alpha = alpha,weights = weights)\n",
    "            #update weights and previous weights after one iteration of a training set\n",
    "            previous_weights = weights\n",
    "            weights = weights + delta_weights\n",
    "            if(iterations > 2000): break;\n",
    "            #print('iterations:', iterations)\n",
    "        #converged, calculate rmse for this data set\n",
    "        rmse = np.sqrt(np.mean((true_probabilities - weights)**2))\n",
    "        rmse_array = np.append(rmse_array,rmse)\n",
    "        #if i %10 == 0: \n",
    "            #print(i, 'th training set')\n",
    "            #print('iterations to converge for this dataset:', iterations)\n",
    "    average_rmse = np.mean(rmse_array)\n",
    "    return average_rmse"
   ]
  },
  {
   "cell_type": "code",
   "execution_count": 200,
   "metadata": {},
   "outputs": [],
   "source": [
    "def figure_3_experiment():\n",
    "    train_data_full_set = generate_n_seq_training_set(1000)\n",
    "    lba_list = [0,0.1,0.3,0.5,0.7,0.9,1]\n",
    "    rmse_lba = []\n",
    "    for lba in lba_list:\n",
    "        starttime = timeit.default_timer()\n",
    "        #print('testing lba:', lba)\n",
    "        with concurrent.futures.ProcessPoolExecutor() as executor:\n",
    "            rmse_lba = rmse_lba+[figure_3_experiment_per_lambda(lba,0.01,train_data_full_set)]\n",
    "        #print(rmse_lba)\n",
    "        endtime = timeit.default_timer()\n",
    "        #print('time used on this lambda:', endtime-starttime)\n",
    "    p = plt.plot(np.array(lba_list), np.array(rmse_lba))\n",
    "    plt.title('RMSE Vs Lambda')\n",
    "    plt.xlabel('lambda')\n",
    "    plt.ylabel('Average RMSE')\n",
    "    #plt.ylim(0.06, 0.15)\n",
    "    plt.xticks(lba_list)\n",
    "    #plt.show()\n",
    "    return p"
   ]
  },
  {
   "cell_type": "code",
   "execution_count": 201,
   "metadata": {},
   "outputs": [],
   "source": [
    "def figure_3_experiment_balanced():\n",
    "    train_data_full_set = generate_balanced_n_seq_training_set(1000)\n",
    "    lba_list = [0,0.1,0.3,0.5,0.7,0.9,1]\n",
    "    rmse_lba = []\n",
    "    for lba in lba_list:\n",
    "        starttime = timeit.default_timer()\n",
    "        #print('testing lba:', lba)\n",
    "        with concurrent.futures.ProcessPoolExecutor() as executor:\n",
    "            rmse_lba = rmse_lba+[figure_3_experiment_per_lambda(lba,0.01,train_data_full_set)]\n",
    "        #print(rmse_lba)\n",
    "        endtime = timeit.default_timer()\n",
    "        #print('time used on this lambda:', endtime-starttime)\n",
    "    p = plt.plot(np.array(lba_list), np.array(rmse_lba))\n",
    "    plt.title('RMSE Vs Lambda, Balanced Trainset')\n",
    "    plt.xlabel('lambda')\n",
    "    plt.ylabel('Average RMSE')\n",
    "    #plt.ylim(0.06, 0.15)\n",
    "    plt.xticks(lba_list)\n",
    "    #plt.show()\n",
    "    return p"
   ]
  },
  {
   "cell_type": "code",
   "execution_count": 121,
   "metadata": {},
   "outputs": [],
   "source": [
    "def figure_4_experiment_per_alpha_lambda(lba,alpha,train_data_full_set):\n",
    "    rmse_array = np.array([])\n",
    "    for i in range(100):\n",
    "        #train each dataset once \n",
    "        #update weights after each sequence\n",
    "        #initialize all weights to 0.5\n",
    "        train_data = train_data_full_set[i*10:i*10+10]\n",
    "        weights = np.full(5,0.5)\n",
    "        for j in train_data:\n",
    "            weights = weights + tdlearn_a_sequence(train = j,lba = lba,alpha = alpha,weights = weights)\n",
    "        #calculate rmse for this data set\n",
    "        rmse = np.sqrt(np.mean((true_probabilities - weights)**2))\n",
    "        rmse_array = np.append(rmse_array,rmse)\n",
    "    average_rmse = np.mean(rmse_array)\n",
    "    return average_rmse"
   ]
  },
  {
   "cell_type": "code",
   "execution_count": 210,
   "metadata": {},
   "outputs": [],
   "source": [
    "def figure_4_experiment():\n",
    "    train_data_full_set = generate_n_seq_training_set(1000)\n",
    "    start = timeit.default_timer()\n",
    "    alpha = np.linspace(0,0.6,61)\n",
    "    lba = np.linspace(0,1,11)\n",
    "    rmse_matrix = np.zeros((len(alpha)*len(lba),3))\n",
    "    run = 0\n",
    "    for a in np.nditer(alpha):\n",
    "        for l in np.nditer(lba):\n",
    "            rmse_matrix[run,0] = a\n",
    "            rmse_matrix[run,1] = l\n",
    "            rmse_matrix[run,2] = figure_4_experiment_per_alpha_lambda(l,a,train_data_full_set)\n",
    "            run = run +1\n",
    "            #print('training with lambda:',l,'alpha:', a)\n",
    "    rmsedf = pd.DataFrame(data=rmse_matrix, columns=[\"alpha\", \"lambda\",\"rmse\"])\n",
    "    end = timeit.default_timer()\n",
    "    #print('time_elapsed:', end-start)\n",
    "    return rmsedf"
   ]
  },
  {
   "cell_type": "markdown",
   "metadata": {},
   "source": [
    "# Experiments"
   ]
  },
  {
   "cell_type": "markdown",
   "metadata": {},
   "source": [
    "## Experiment Figure 3"
   ]
  },
  {
   "cell_type": "code",
   "execution_count": 202,
   "metadata": {},
   "outputs": [
    {
     "data": {
      "text/plain": [
       "[<matplotlib.lines.Line2D at 0x1145ae550>]"
      ]
     },
     "execution_count": 202,
     "metadata": {},
     "output_type": "execute_result"
    },
    {
     "data": {
      "image/png": "[encoded data removed]",
      "text/plain": [
       "<Figure size 432x288 with 1 Axes>"
      ]
     },
     "metadata": {
      "needs_background": "light"
     },
     "output_type": "display_data"
    }
   ],
   "source": [
    "figure_3_experiment()"
   ]
  },
  {
   "cell_type": "markdown",
   "metadata": {},
   "source": [
    "### Balanced train set"
   ]
  },
  {
   "cell_type": "code",
   "execution_count": 203,
   "metadata": {},
   "outputs": [
    {
     "data": {
      "text/plain": [
       "[<matplotlib.lines.Line2D at 0x1141483d0>]"
      ]
     },
     "execution_count": 203,
     "metadata": {},
     "output_type": "execute_result"
    },
    {
     "data": {
      "image/png": "[encoded data removed]",
      "text/plain": [
       "<Figure size 432x288 with 1 Axes>"
      ]
     },
     "metadata": {
      "needs_background": "light"
     },
     "output_type": "display_data"
    }
   ],
   "source": [
    "figure_3_experiment_balanced()"
   ]
  },
  {
   "cell_type": "markdown",
   "metadata": {},
   "source": [
    "# Experiment Figure 4&5 "
   ]
  },
  {
   "cell_type": "markdown",
   "metadata": {},
   "source": [
    "train_data_full_set = generate_n_seq_training_set(1000)\n",
    "start = timeit.default_timer()\n",
    "alpha = np.linspace(0,0.6,61)\n",
    "lba = np.linspace(0,1,11)\n",
    "rmse_matrix = np.zeros((len(alpha)*len(lba),3))\n",
    "run = 0\n",
    "for a in np.nditer(alpha):\n",
    "    for l in np.nditer(lba):\n",
    "        rmse_matrix[run,0] = a\n",
    "        rmse_matrix[run,1] = l\n",
    "        rmse_matrix[run,2] = figure_4_experiment_per_alpha_lambda(l,a,train_data_full_set)\n",
    "        run = run +1\n",
    "        #print('training with lambda:',l,'alpha:', a)\n",
    "rmsedf = pd.DataFrame(data=rmse_matrix, columns=[\"alpha\", \"lambda\",\"rmse\"])\n",
    "end = timeit.default_timer()\n",
    "#print('time_elapsed:', end-start)"
   ]
  },
  {
   "cell_type": "code",
   "execution_count": 211,
   "metadata": {},
   "outputs": [],
   "source": [
    "rmsedf = figure_4_experiment()"
   ]
  },
  {
   "cell_type": "markdown",
   "metadata": {},
   "source": [
    "## Experiment Figure 4"
   ]
  },
  {
   "cell_type": "code",
   "execution_count": 213,
   "metadata": {},
   "outputs": [
    {
     "data": {
      "text/plain": [
       "<matplotlib.legend.Legend at 0x11459bc50>"
      ]
     },
     "execution_count": 213,
     "metadata": {},
     "output_type": "execute_result"
    },
    {
     "data": {
      "image/png": "[encoded data removed]",
      "text/plain": [
       "<Figure size 432x288 with 1 Axes>"
      ]
     },
     "metadata": {
      "needs_background": "light"
     },
     "output_type": "display_data"
    }
   ],
   "source": [
    "plt.plot( 'alpha', 'rmse', data=rmsedf[rmsedf['lambda'] == 0], color='red',label = 'lambda = 0')\n",
    "plt.plot( 'alpha', 'rmse', data=rmsedf[rmsedf['lambda'] == 0.30000000000000004], color='orange',label = 'lambda = 0.3')\n",
    "plt.plot( 'alpha', 'rmse', data=rmsedf[rmsedf['lambda'] == 0.8], color='yellow',label = 'lambda = 0.8')\n",
    "plt.plot( 'alpha', 'rmse', data=rmsedf[rmsedf['lambda'] == 1], color='green',label = 'lambda = 1')\n",
    "plt.legend()"
   ]
  },
  {
   "cell_type": "code",
   "execution_count": 214,
   "metadata": {},
   "outputs": [
    {
     "data": {
      "text/plain": [
       "<matplotlib.legend.Legend at 0x11427a7d0>"
      ]
     },
     "execution_count": 214,
     "metadata": {},
     "output_type": "execute_result"
    },
    {
     "data": {
      "image/png": "[encoded data removed]",
      "text/plain": [
       "<Figure size 432x288 with 1 Axes>"
      ]
     },
     "metadata": {
      "needs_background": "light"
     },
     "output_type": "display_data"
    }
   ],
   "source": [
    "plt.plot( 'alpha', 'rmse', data=rmsedf[rmsedf['lambda'] == 0], color='red',label = 'lambda = 0')\n",
    "plt.plot( 'alpha', 'rmse', data=rmsedf[rmsedf['lambda'] == 0.30000000000000004], color='orange',label = 'lambda = 0.3')\n",
    "plt.plot( 'alpha', 'rmse', data=rmsedf[rmsedf['lambda'] == 0.8], color='yellow',label = 'lambda = 0.8')\n",
    "plt.plot( 'alpha', 'rmse', data=rmsedf[rmsedf['lambda'] == 1], color='green',label = 'lambda = 1')\n",
    "plt.xlim(0,0.4)\n",
    "plt.ylim(0,1)\n",
    "plt.xlabel('alpha')\n",
    "plt.ylabel('Error')\n",
    "plt.legend()"
   ]
  },
  {
   "cell_type": "markdown",
   "metadata": {},
   "source": [
    "## Experiment Figure 5 "
   ]
  },
  {
   "cell_type": "code",
   "execution_count": 215,
   "metadata": {},
   "outputs": [
    {
     "data": {
      "image/png": "[encoded data removed]",
      "text/plain": [
       "<Figure size 432x288 with 1 Axes>"
      ]
     },
     "metadata": {
      "needs_background": "light"
     },
     "output_type": "display_data"
    }
   ],
   "source": [
    "best_alpha = rmsedf.groupby(\"lambda\")['rmse'].min().to_frame()\n",
    "best_alpha.reset_index(level=0, inplace=True)\n",
    "\n",
    "plt.plot('lambda', 'rmse', data=best_alpha)\n",
    "plt.ylim(0.08,0.18)\n",
    "plt.xlabel('lambda')\n",
    "plt.ylabel('Error Using Best Alpha')\n",
    "plt.show()"
   ]
  },
  {
   "cell_type": "code",
   "execution_count": null,
   "metadata": {},
   "outputs": [],
   "source": []
  }
 ],
 "metadata": {
  "kernelspec": {
   "display_name": "Python 3",
   "language": "python",
   "name": "python3"
  },
  "language_info": {
   "codemirror_mode": {
    "name": "ipython",
    "version": 3
   },
   "file_extension": ".py",
   "mimetype": "text/x-python",
   "name": "python",
   "nbconvert_exporter": "python",
   "pygments_lexer": "ipython3",
   "version": "3.7.7"
  },
  "toc": {
   "base_numbering": 1,
   "nav_menu": {},
   "number_sections": true,
   "sideBar": true,
   "skip_h1_title": false,
   "title_cell": "Table of Contents",
   "title_sidebar": "Contents",
   "toc_cell": false,
   "toc_position": {},
   "toc_section_display": true,
   "toc_window_display": false
  }
 },
 "nbformat": 4,
 "nbformat_minor": 4
}
